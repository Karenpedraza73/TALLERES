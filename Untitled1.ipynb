{
  "nbformat": 4,
  "nbformat_minor": 0,
  "metadata": {
    "colab": {
      "provenance": [],
      "authorship_tag": "ABX9TyN2Vi+t4sC2QGcjE8TlMS1i",
      "include_colab_link": true
    },
    "kernelspec": {
      "name": "python3",
      "display_name": "Python 3"
    },
    "language_info": {
      "name": "python"
    }
  },
  "cells": [
    {
      "cell_type": "markdown",
      "metadata": {
        "id": "view-in-github",
        "colab_type": "text"
      },
      "source": [
        "<a href=\"https://colab.research.google.com/github/Karenpedraza73/TALLERES/blob/main/Untitled1.ipynb\" target=\"_parent\"><img src=\"https://colab.research.google.com/assets/colab-badge.svg\" alt=\"Open In Colab\"/></a>"
      ]
    },
    {
      "cell_type": "markdown",
      "source": [
        "# **TALLER**\n",
        "---\n",
        "Realizado por: karen_Pedraza_64191173"
      ],
      "metadata": {
        "id": "YlI9sfK4LUPK"
      }
    },
    {
      "cell_type": "markdown",
      "source": [
        "**1. Define dos variables, nombre y edad, e imprime un mensaje de saludo que las utilice.**"
      ],
      "metadata": {
        "id": "Bf34I50gLf6R"
      }
    },
    {
      "cell_type": "code",
      "source": [
        "# Definición de variables\n",
        "nombre = \"Karen\"\n",
        "edad = 22\n",
        "\n",
        "# Creación del mensaje de presentación usando una f-string\n",
        "# Se utiliza el formato snake_case para el nombre de la variable `mensaje_presentacion`\n",
        "mensaje_presentacion = f\"Hola, soy {nombre} y tengo {edad} años.\"\n",
        "\n",
        "# Se utiliza la función print() para mostrar el mensaje en la consola\n",
        "print(mensaje_presentacion)  # Imprime el mensaje en la consola en formato snake_case\n"
      ],
      "metadata": {
        "colab": {
          "base_uri": "https://localhost:8080/"
        },
        "id": "RVgmN_xhLiSa",
        "outputId": "1f706af3-cc5a-453c-e3d9-cfb83d0d786b"
      },
      "execution_count": null,
      "outputs": [
        {
          "output_type": "stream",
          "name": "stdout",
          "text": [
            "Hola, soy Karen y tengo 22 años.\n"
          ]
        }
      ]
    },
    {
      "cell_type": "markdown",
      "source": [
        "**2.Calcula y muestra el área de un círculo. Pide al usuario que ingrese la radio.**"
      ],
      "metadata": {
        "id": "OwnHfb_FMf5R"
      }
    },
    {
      "cell_type": "code",
      "source": [
        "# Definición de la función para calcular el área de un círculo\n",
        "def area_circulo(radio):\n",
        "    if radio >= 0:\n",
        "        area = 3.14159 * radio ** 2  # Calcula el área usando la fórmula A = π * r²\n",
        "        return area\n",
        "    else:\n",
        "        return None\n",
        "\n",
        "# Pedir al usuario que ingrese el valor del radio\n",
        "valor_radio = float(input(\"Para calcular el área por favor, ingrese el valor del radio \"))\n",
        "\n",
        "# Llamada a la función para calcular el área del círculo\n",
        "area_calculada = area_circulo(valor_radio)\n",
        "\n",
        "# Comprobar si el cálculo del área fue válido\n",
        "if area_calculada is not None:\n",
        "    print(\"El área del círculo es:\", area_calculada)\n",
        "else:\n",
        "    print(\"Valor inválido\")\n"
      ],
      "metadata": {
        "colab": {
          "base_uri": "https://localhost:8080/"
        },
        "id": "fMLacdG0MhDy",
        "outputId": "56ba481a-0b3e-47ed-dd42-7ab0c5b6eb1c"
      },
      "execution_count": null,
      "outputs": [
        {
          "output_type": "stream",
          "name": "stdout",
          "text": [
            "Para calcular el área por favor, ingrese el valor del radio 55\n",
            "El área del círculo es: 9503.30975\n"
          ]
        }
      ]
    },
    {
      "cell_type": "markdown",
      "source": [
        "**3. Escribe una función calcular_promedio que tome una lista de números como argumento y devuelva su promedio.**"
      ],
      "metadata": {
        "id": "yijfxerXM5Qo"
      }
    },
    {
      "cell_type": "code",
      "source": [
        "# Definición de la función para calcular el promedio de números impares\n",
        "def calcular_promedio_impares(lista_impares):\n",
        "    if not lista_impares:  # Verifica si la lista está vacía\n",
        "        return 0  # Si está vacía, retorna 0 para evitar división por cero\n",
        "\n",
        "    suma_total = sum(lista_impares)  # Suma todos los números en la lista\n",
        "    promedio = suma_total / len(lista_impares)  # Calcula el promedio\n",
        "    return promedio  # Devuelve el promedio calculado\n",
        "\n",
        "# Lista de números impares\n",
        "numeros_impares = [1, 3, 5, 7, 9]\n",
        "\n",
        "# Llamada a la función para calcular el promedio de números impares\n",
        "promedio_impares_resultado = calcular_promedio_impares(numeros_impares)\n",
        "\n",
        "# Imprimir el resultado del promedio\n",
        "print(\"El promedio de la lista es:\", promedio_impares_resultado)\n"
      ],
      "metadata": {
        "id": "hXhUGzLtM7Ys"
      },
      "execution_count": null,
      "outputs": []
    },
    {
      "cell_type": "markdown",
      "source": [
        "**4.Crea una lista de números y utiliza un bucle para mostrar los números mayores que 10**"
      ],
      "metadata": {
        "id": "g6cqYojCNhlp"
      }
    },
    {
      "cell_type": "code",
      "source": [
        "# Construir una lista de números\n",
        "numeros = [5, 2, 8, 15, 300, 18, 9, 11, 6, 14, 1, 20, 2, 17, 4, 13, 10, 1, 16, 19]\n",
        "\n",
        "# Imprimir los números mayores que 10 mediante la función print\n",
        "print(\"Números mayores que 10:\")\n",
        "for numero in numeros: #se usa en bucle for y no while ya que no queremos verificar una condición\n",
        "    if numero > 10:\n",
        "        print(numero)\n"
      ],
      "metadata": {
        "colab": {
          "base_uri": "https://localhost:8080/"
        },
        "id": "r8n56MimNk8w",
        "outputId": "21a3c391-d08b-4ad9-ab35-3c5deefb8f05"
      },
      "execution_count": null,
      "outputs": [
        {
          "output_type": "stream",
          "name": "stdout",
          "text": [
            "Números mayores que 10:\n",
            "15\n",
            "300\n",
            "18\n",
            "11\n",
            "14\n",
            "20\n",
            "17\n",
            "13\n",
            "16\n",
            "19\n"
          ]
        }
      ]
    },
    {
      "cell_type": "markdown",
      "source": [
        "**5.Define un diccionario que almacene los precios de tres productos diferentes. Pide al usuario que ingrese el nombre de un producto y muestra su precio.**\n"
      ],
      "metadata": {
        "id": "A9hP_Yt6OuPy"
      }
    },
    {
      "cell_type": "code",
      "source": [
        "# Definimos los precios de los productos en un diccionario\n",
        "precios = {\n",
        "    \"pasta\": 6500,\n",
        "    \"tomate\": 1000,\n",
        "    \"aceite\": 22000\n",
        "}\n",
        "\n",
        "#se llama la función input para que el usurio ingrese el nombre del producto y se ueda realizar un filtro, d eigual forma usamos Snake_case para nombrar\n",
        "producto_buscar = input(\"Ingresa el nombre de un producto para conocer su valor: \")\n",
        "\n",
        "# Verificamos si el producto existe en el diccionario mediante el condicional if\n",
        "if producto_buscar in precios:\n",
        "    # Si el producto está en la lista de precios, guardamos su precio en la variable 'precio'\n",
        "    precio = precios[producto_buscar]\n",
        "    # Mostramos el nombre del producto y su precio en la consola\n",
        "    print(f\"El precio de {producto_buscar} es {precio} COP.\")\n",
        "else:\n",
        "    # Si el producto no está en la lista de precios, mostramos un mensaje en la consola\n",
        "    print(\"Producto no encontrado.\")\n"
      ],
      "metadata": {
        "colab": {
          "base_uri": "https://localhost:8080/"
        },
        "id": "7Zo4SM6vOyGu",
        "outputId": "e578ee19-8451-4acf-e385-169f43fc8e97"
      },
      "execution_count": null,
      "outputs": [
        {
          "output_type": "stream",
          "name": "stdout",
          "text": [
            "Ingresa el nombre de un producto para conocer su valor: aceite\n",
            "El precio de aceite es 22000 COP.\n"
          ]
        }
      ]
    },
    {
      "cell_type": "markdown",
      "source": [
        "**6.Escribe una función es_primo que determine si un número dado es primo o no.**"
      ],
      "metadata": {
        "id": "YG4gSYAdQR5h"
      }
    },
    {
      "cell_type": "code",
      "source": [
        "#Definir la función con el argumento\n",
        "def es_primo(numero):\n",
        "    if numero <= 1:\n",
        "        return False  # usamos el condicional if para saber si  el número es menor o igual a 1, ya que eso sifnicaria que  no es primo\n",
        "\n",
        "# Comprobamos si el número es divisible por cualquier otro número menor que él para ello usamos usamos un bucle for para recorrer los números desde 2 hasta numero\n",
        "    for i in range(2, numero):\n",
        "        if numero % i == 0:\n",
        "            return False  # Si se encuentra un divisor, el número no es primo\n",
        "\n",
        "    return True  # Si no se encontraron divisores, el número es primo\n",
        "\n",
        "# Pedir al usuario que ingrese un número\n",
        "numero_usuario = int(input(\"Ingresa un número para verificar si es primo: \"))\n",
        "\n",
        "# Llamar a la función y mostrar el resultado\n",
        "if es_primo(numero_usuario):\n",
        "    print(f\"{numero_usuario} es un número primo.\")\n",
        "else:\n",
        "    print(f\"{numero_usuario} no es un número primo.\")\n"
      ],
      "metadata": {
        "colab": {
          "base_uri": "https://localhost:8080/"
        },
        "id": "nDRhVVeqP4I1",
        "outputId": "d870c5ba-0e05-47d3-d5ae-c767e4e25c14"
      },
      "execution_count": null,
      "outputs": [
        {
          "output_type": "stream",
          "name": "stdout",
          "text": [
            "Ingresa un número para verificar si es primo: 4\n",
            "4 no es un número primo.\n"
          ]
        }
      ]
    },
    {
      "cell_type": "markdown",
      "source": [
        "**7.Crea una lista de nombres y utiliza un bucle mientras para imprimir cada nombre hasta que encuentres el nombre \"Alex\".**"
      ],
      "metadata": {
        "id": "NeMgDXFDRa26"
      }
    },
    {
      "cell_type": "code",
      "source": [
        "# Creamos una lista de nombres\n",
        "nombres = [\"Karen\", \"Nicolas\", \"Arturo\", \"Javier\", \"Gabriel\", \"Axel\", \"Laura\", \"Andres\", \"Alejandra\", \"Cristina\", \"Mauricio\", \"Alex\"]\n",
        "\n",
        "# Inicializamos el índice para recorrer la lista\n",
        "N = 0\n",
        "\n",
        "# Usamos un bucle while para para repetir el bloque de código que sigue la siguiente sintaxis \" mientras la variable N sea menor que la longitud de la lista nombres\"  Esto nos permite recorrer cada elemento de la lista.\n",
        "while N < len(nombres):\n",
        "    nombre_actual = nombres[N]\n",
        "\n",
        "    # Mostramos el nombre actual en la consola\n",
        "    print(nombre_actual)\n",
        "\n",
        "    # Verificamos si el nombre actual es igual a \"Alex\"\n",
        "    if nombre_actual == \"Alex\":\n",
        "        # Si encontramos a \"Alex\", el bucle para de revisar lo elementos de la lista\n",
        "        print(\"¡ALTO, resultado encontrado!\")\n",
        "        break\n",
        "\n",
        "    #  En caso de que no se encuentre el nombre  \"Alex\", incrementamos el valor de N en 1 para pasar al siguiente nombre en la lista y continuar con la siguiente iteración del bucle.\n",
        "    N += 1\n"
      ],
      "metadata": {
        "colab": {
          "base_uri": "https://localhost:8080/"
        },
        "id": "TYI1pXMkS00S",
        "outputId": "ddb2bfc9-7935-4c94-805d-b92cc3a30890"
      },
      "execution_count": null,
      "outputs": [
        {
          "output_type": "stream",
          "name": "stdout",
          "text": [
            "Karen\n",
            "Nicolas\n",
            "Arturo\n",
            "Javier\n",
            "Gabriel\n",
            "Axel\n",
            "Laura\n",
            "Andres\n",
            "Alejandra\n",
            "Cristina\n",
            "Mauricio\n",
            "Alex\n",
            "¡ALTO, resultado encontrado!\n"
          ]
        }
      ]
    },
    {
      "cell_type": "markdown",
      "source": [
        "**8.Escribe una función invertir_cadena que tome una como argumento y devuelva la cadena invertida.**"
      ],
      "metadata": {
        "id": "Z0meg74-Wee2"
      }
    },
    {
      "cell_type": "code",
      "source": [
        "#Definimos la función con su argumento\n",
        "def invertir_cadena(cadena):\n",
        "    cadena_invertida = \"\" # se nombra la variable\n",
        "    for caracter in cadena: #Iniciamos un bucle for que recorrerá cada caracter en la cadena original.\n",
        "        cadena_invertida = caracter + cadena_invertida\n",
        "    return cadena_invertida\n",
        "\n",
        "# Para realizar el ejercicio de verificación se tomo los números pares\n",
        "cadena_numeros_pares = \"246810\"\n",
        "cadena_invertida = invertir_cadena(cadena_numeros_pares) #amamos a la función invertir_cadena con la cadena de números pares como argumento y guardamos el resultado en la variable cadena_invertida.\n",
        "print(\"Cadena original:\", cadena_numeros_pares)\n",
        "print(\"Cadena invertida:\", cadena_invertida)\n"
      ],
      "metadata": {
        "id": "pGhgME9EWkhg"
      },
      "execution_count": null,
      "outputs": []
    },
    {
      "cell_type": "markdown",
      "source": [
        "**9.Crea una lista de números pares del 2 al 20 utilizando una comprensión de lista.**"
      ],
      "metadata": {
        "id": "MOYkUbLXfOPU"
      }
    },
    {
      "cell_type": "code",
      "source": [
        "L1= [2, 4, 6, 8, 10, 12, 14, 16, 18, 20,22] #Se crea una lista con los números pares\n",
        "print (L1) #Se ordena a print mostrar todos los elemtnos de L1\n"
      ],
      "metadata": {
        "colab": {
          "base_uri": "https://localhost:8080/"
        },
        "id": "KhSY3dDhfP8Q",
        "outputId": "c635a385-9430-4fcb-a634-032bfcbdb248"
      },
      "execution_count": null,
      "outputs": [
        {
          "output_type": "stream",
          "name": "stdout",
          "text": [
            "[2, 4, 6, 8, 10, 12, 14, 16, 18, 20, 22]\n"
          ]
        }
      ]
    },
    {
      "cell_type": "markdown",
      "source": [
        "\n",
        "**10.** **Escribe un programa que genere los primeros\n",
        "términos de la serie de Fibonacci a discreción del usuario.**\n",
        "\n",
        "\n",
        "\n",
        "\n"
      ],
      "metadata": {
        "id": "uV2wf6ccgeK-"
      }
    },
    {
      "cell_type": "code",
      "source": [
        "# Inicializamos explicando que valor toma cada variable\n",
        "X = 0\n",
        "Y = 1\n",
        "\n",
        "# Imprimimos mediante print los primeros términos de la serie\n",
        "print(X)\n",
        "print(Y)\n",
        "\n",
        "# Mediante un bucle for y operadores aritmeticos seguimos la secuencia de 11 numeros, donde el anterior se sume con la posición acual y de un resultado que repita lo anterior\n",
        "for _ in range(11):\n",
        "    Z = X + Y\n",
        "    print(Z)\n",
        "    X = Y\n",
        "    Y = Z\n"
      ],
      "metadata": {
        "colab": {
          "base_uri": "https://localhost:8080/"
        },
        "id": "6El_tkWsheuC",
        "outputId": "ac598e18-c30e-45e2-9172-7b9e7693a005"
      },
      "execution_count": null,
      "outputs": [
        {
          "output_type": "stream",
          "name": "stdout",
          "text": [
            "0\n",
            "1\n",
            "1\n",
            "2\n",
            "3\n",
            "5\n",
            "8\n",
            "13\n",
            "21\n",
            "34\n",
            "55\n",
            "89\n",
            "144\n"
          ]
        }
      ]
    },
    {
      "cell_type": "markdown",
      "source": [
        "Nota:  La serie de Fibonacci es una secuencia matemática que comienza con los números 0 y 1, y luego cada número siguiente es la suma de los dos números anteriores."
      ],
      "metadata": {
        "id": "5Wr7KpK7hEFr"
      }
    },
    {
      "cell_type": "markdown",
      "source": [
        "\n",
        "**11. Escribe una función calcular_interes_simple que calcule el interés simple dado el principal, la tasa de interés y el tiempo en años.**"
      ],
      "metadata": {
        "id": "ZALlE_eojArS"
      }
    },
    {
      "cell_type": "code",
      "source": [
        "#definir la función con el argumento dado\n",
        "def calcular_interes_simple(principal, tasa, tiempo):\n",
        "    interes = (principal * tasa * tiempo) / 100\n",
        "    return interes\n",
        "\n",
        "# Indicar el valor que le corresponde a cada argumento\n",
        "principal = 1000000\n",
        "tasa = 3.5\n",
        "tiempo = 5\n",
        "\n",
        "# Indicar que el interes calculado es igual a la función dada\n",
        "interes_calculado = calcular_interes_simple(principal, tasa, tiempo)\n",
        "\n",
        "# Mediante print mostrar el interes simple que se debe pagar para $1.000.000 en 5 años\n",
        "print(\"El interés simple calculado es:\", interes_calculado)\n"
      ],
      "metadata": {
        "colab": {
          "base_uri": "https://localhost:8080/"
        },
        "id": "Mu444kfqkvv2",
        "outputId": "b68b6490-d89e-4be6-fb31-c8e2a8187f30"
      },
      "execution_count": null,
      "outputs": [
        {
          "output_type": "stream",
          "name": "stdout",
          "text": [
            "El interés simple calculado es: 175000.0\n"
          ]
        }
      ]
    },
    {
      "cell_type": "markdown",
      "source": [
        "**12.Crea una lista de precios de acciones. Use una funcion para calcular el promedio de esos precios.**"
      ],
      "metadata": {
        "id": "pzYl-dBBnDwV"
      }
    },
    {
      "cell_type": "code",
      "source": [
        "# Creamos una lista con una serie de precios para 6 acciones aleatorias\n",
        "L1 = [200, 500, 234, 4590, 432, 567]\n",
        "# definimos la función, cuyo objetivo es buscar el promedio de las 6 acciones\n",
        "def promedio_acciones(lista):\n",
        "    suma = sum(lista)\n",
        "    promedio = suma / len(lista) # escribimos en operadores aritmedicos que el promedio se calcula sumando los 6 valores y dividiendo por el recuento de dichos números\n",
        "    return promedio\n",
        "\n",
        "promedio_calculado = promedio_acciones(L1) # el promedio calculado es la suma de las 6 acciones divido en 6\n",
        "\n",
        "print(\"El promedio es:\", promedio_calculado)\n",
        "\n"
      ],
      "metadata": {
        "colab": {
          "base_uri": "https://localhost:8080/"
        },
        "id": "pleHAkctnG7j",
        "outputId": "9d9ead1d-2f98-4547-d349-c088aa74f450"
      },
      "execution_count": null,
      "outputs": [
        {
          "output_type": "stream",
          "name": "stdout",
          "text": [
            "El promedio es: 1087.1666666666667\n"
          ]
        }
      ]
    },
    {
      "cell_type": "markdown",
      "source": [
        "**13.Escribe una función convertir_dolares_a_euros que tome una cantidad en dólares y la convertir a euros (usando una tasa de cambio fija).**"
      ],
      "metadata": {
        "id": "m3OvqwfKqwRz"
      }
    },
    {
      "cell_type": "code",
      "source": [
        "def convertir_dolares_a_euros(cantidad_dolares):\n",
        "    tasa_cambio = 0.95  # Tasa de cambio dólar a euro para el 21 de agosto\n",
        "    cantidad_euros = cantidad_dolares * tasa_cambio\n",
        "    return cantidad_euros\n",
        "\n",
        "cantidad_dolares = float(input(\" ¿Cuantos dolares quiere cambiar? \")) #Solicitamos al usuario que ingrese la cantidad en dólares y la convertimos a un número decimal utilizando float()\n",
        "cantidad_euros_convertidos = convertir_dolares_a_euros(cantidad_dolares) #función dada\n",
        "print(\"Usted tiene\", cantidad_euros_convertidos, \"euros\")\n"
      ],
      "metadata": {
        "colab": {
          "base_uri": "https://localhost:8080/"
        },
        "id": "oOcsfVokqzwS",
        "outputId": "985275af-6536-4080-f3b4-03e25ed96171"
      },
      "execution_count": null,
      "outputs": [
        {
          "output_type": "stream",
          "name": "stdout",
          "text": [
            " ¿Cuantos dolares quiere cambiar? 200\n",
            "Usted tiene 190.0 euros\n"
          ]
        }
      ]
    },
    {
      "cell_type": "markdown",
      "source": [
        "**14.Crea una función calcular_factorial que calcule el factorial de un número dado.**"
      ],
      "metadata": {
        "id": "3PchWtDPsFl8"
      }
    },
    {
      "cell_type": "code",
      "source": [
        "#definir la función con su argumento\n",
        "def calcular_factorial(numero):\n",
        "    factorial = 1 # se toma 1 ya que se debe multiplicar todos los números enteros positivos que hay entre ese número y el 1\n",
        "    for i in range(1, numero + 1):\n",
        "        factorial *= i\n",
        "    return factorial\n",
        "numero_ingresado = int(input(\"Ingrese un número para calcular su factorial: \"))#mediante el int solicitamos que ingresen un valor para calcula el factorial\n",
        "factorial_calculado = calcular_factorial(numero_ingresado)\n",
        "print(\"El factorial de\", numero_ingresado, \"es:\", factorial_calculado)\n"
      ],
      "metadata": {
        "colab": {
          "base_uri": "https://localhost:8080/"
        },
        "id": "OLykkOQjuc3U",
        "outputId": "15d74c02-f2a5-414d-dbd4-cac7d7ac9482"
      },
      "execution_count": null,
      "outputs": [
        {
          "output_type": "stream",
          "name": "stdout",
          "text": [
            "Ingrese un número para calcular su factorial: 6\n",
            "El factorial de 6 es: 720\n"
          ]
        }
      ]
    },
    {
      "cell_type": "markdown",
      "source": [
        "**15.Define un diccionario que contenga los nombres y saldos de cuentas bancarias. Escribe una función que encuentre la cuenta con el saldo más alto.**\n"
      ],
      "metadata": {
        "id": "aLcx7YoTxSJs"
      }
    },
    {
      "cell_type": "code",
      "source": [
        "#Definimos la función con el argumento\n",
        "def encontrar_cuenta_mas_alta(diccionario_cuentas):\n",
        "    cuenta_mas_alta = None #None,  representa la cuenta con el saldo más alto.\n",
        "    saldo_mas_alto = float(\"-inf\")  # Inicializar con un valor muy bajo\n",
        "\n",
        "    for cuenta, saldo in diccionario_cuentas.items():# Utilizamos un bucle for para iterar a través de las claves (cuentas) y valores (saldos) en el diccionario de cuentas.\n",
        "        if saldo > saldo_mas_alto:\n",
        "            saldo_mas_alto = saldo\n",
        "            cuenta_mas_alta = cuenta\n",
        "\n",
        "    return cuenta_mas_alta\n",
        "\n",
        "# Diccionario de 5 cuentas con valores aleatorios\n",
        "cuentas = {\n",
        "    \"Karen\": 768000,\n",
        "    \"Andres\": 96000,\n",
        "    \"Mario\": 345000,\n",
        "    \"Johana\": 87000,\n",
        "    \"Mauricio\": 1645000,\n",
        "}\n",
        "\n",
        "# Encontrar la cuenta con el saldo más alto\n",
        "cuenta_con_saldo_mas_alto = encontrar_cuenta_mas_alta(cuentas)\n",
        "\n",
        "print(\"La cuenta con el saldo más alto es:\", cuenta_con_saldo_mas_alto)\n"
      ],
      "metadata": {
        "colab": {
          "base_uri": "https://localhost:8080/"
        },
        "id": "Aslk4GEbyyGu",
        "outputId": "667878ba-b078-491d-965e-0da2a563be05"
      },
      "execution_count": null,
      "outputs": [
        {
          "output_type": "stream",
          "name": "stdout",
          "text": [
            "La cuenta con el saldo más alto es: Mauricio\n"
          ]
        }
      ]
    },
    {
      "cell_type": "markdown",
      "source": [
        "**16.Escribe un programa que calcule e imprima los primeros\n",
        "números triangulares a discreción del usuario.**\n",
        "\n"
      ],
      "metadata": {
        "id": "xUu3ANkQ2Kyt"
      }
    },
    {
      "cell_type": "code",
      "source": [
        "# mediante input se da la orden d eingresar un valor, esto para que los números puedan ser caculados\n",
        "n = int(input(\"Ingrese la cantidad de números triangulares que desea calcular: \"))\n",
        " #se creó  una variable llamada numero_triangular con Snake case y se le asignó el valor inicial de 0 para calcular los números triangulares.\n",
        "numero_triangular = 0\n",
        "\n",
        "#insetamos un bucle ya que  vamos a hacer una serie de acciones que se repiten.\n",
        "# mediante range(1, n + 1) se creó una secuencia de números que empieza desde 1 y llega hasta el número n (puede ser infinito).\n",
        "for i in range(1, n + 1):\n",
        "    numero_triangular += i\n",
        "    print(\"Número triangular\", i, \":\", numero_triangular)\n"
      ],
      "metadata": {
        "colab": {
          "base_uri": "https://localhost:8080/"
        },
        "id": "yKvHFjes2OvT",
        "outputId": "9f5706a3-26ca-48aa-fbf6-2c5adeef780f"
      },
      "execution_count": null,
      "outputs": [
        {
          "output_type": "stream",
          "name": "stdout",
          "text": [
            "Ingrese la cantidad de números triangulares que desea calcular: 7\n",
            "Número triangular 1 : 1\n",
            "Número triangular 2 : 3\n",
            "Número triangular 3 : 6\n",
            "Número triangular 4 : 10\n",
            "Número triangular 5 : 15\n",
            "Número triangular 6 : 21\n",
            "Número triangular 7 : 28\n"
          ]
        }
      ]
    },
    {
      "cell_type": "markdown",
      "source": [
        "**17.Crea una función calcular_descuento que calcule el precio final después de aplicar un descuento a un artículo.**"
      ],
      "metadata": {
        "id": "7CfFLuC_5fbN"
      }
    },
    {
      "cell_type": "code",
      "source": [
        "# Definimos una función llamada calcular_descuento que calcula el precio final con descuento.\n",
        "def calcular_descuento(precio_original, porcentaje_descuento):\n",
        "    # Calculamos el monto del descuento en dinero.\n",
        "    descuento = precio_original * (porcentaje_descuento / 100)\n",
        "\n",
        "    # Calculamos el precio final restando el descuento al precio original.\n",
        "    precio_final = precio_original - descuento\n",
        "\n",
        "    # Devolvemos el precio final después de aplicar el descuento.\n",
        "    return precio_final\n",
        "\n",
        "# Pedimos al usuario que ingrese el precio original del artículo como número decimal.\n",
        "precio_original = float(input(\"Ingrese el precio original del artículo: \"))\n",
        "\n",
        "# Pedimos al usuario que ingrese el porcentaje de descuento como número decimal.\n",
        "porcentaje_descuento = float(input(\"Ingrese el porcentaje de descuento ( sin el %): \"))\n",
        "\n",
        "# Llamamos a la función calcular_descuento con los valores ingresados por el usuario.\n",
        "precio_con_descuento = calcular_descuento(precio_original, porcentaje_descuento)\n",
        "\n",
        "# Mostramos el resultado del precio final con descuento.\n",
        "print(\"El precio final con descuento es:\", precio_con_descuento)\n",
        "\n"
      ],
      "metadata": {
        "colab": {
          "base_uri": "https://localhost:8080/"
        },
        "id": "lU_5E9hO5fyV",
        "outputId": "637208c5-1059-4ff0-ca21-443d4ba3d706"
      },
      "execution_count": null,
      "outputs": [
        {
          "output_type": "stream",
          "name": "stdout",
          "text": [
            "Ingrese el precio original del artículo: 100.000\n",
            "Ingrese el porcentaje de descuento ( sin el %): 32\n",
            "El precio final con descuento es: 68.0\n"
          ]
        }
      ]
    },
    {
      "cell_type": "markdown",
      "source": [
        "**18.Escribe una función que tome una lista de números y devuelva una nueva lista con solo los números pares.**"
      ],
      "metadata": {
        "id": "VZhYKClr5qS9"
      }
    },
    {
      "cell_type": "code",
      "source": [
        "def numeros_pares(lista):\n",
        "    numeros_pares = []  # Creamos una lista vacía para almacenar los números pares\n",
        "\n",
        "    for numero in lista:  # Recorremos cada número en la lista dada\n",
        "        if numero % 2 == 0:  # Si el número es divisible por 2 (es par)\n",
        "            numeros_pares.append(numero)  # Lo añadimos a la lista de números pares\n",
        "\n",
        "    return numeros_pares  # Devolvemos la lista de números pares\n",
        "\n",
        "numeros = [12, 23, 32, 44, 58, 60, 97, 80, 98, 10,20,55,67,]\n",
        "numeros_pares = numeros_pares(numeros)\n",
        "print(\"Números pares:\", numeros_pares)\n"
      ],
      "metadata": {
        "colab": {
          "base_uri": "https://localhost:8080/"
        },
        "id": "taNzTU0aZSw3",
        "outputId": "663d40df-97be-4233-c4f1-de52cb9910f7"
      },
      "execution_count": null,
      "outputs": [
        {
          "output_type": "stream",
          "name": "stdout",
          "text": [
            "Números pares: [12, 32, 44, 58, 60, 80, 98, 10, 20]\n"
          ]
        }
      ]
    },
    {
      "cell_type": "markdown",
      "source": [
        "**19.Crea una lista de números y utiliza una función para encontrar el número más grande y el más pequeño.**"
      ],
      "metadata": {
        "id": "m2VMSZkk58BV"
      }
    },
    {
      "cell_type": "code",
      "source": [
        "L4 = [10987, 234, 987, 456, 234, 908, 103, 389, 571, 699, 976, 988, 1001] #Creamos una lista con números aleatorios\n",
        "L4.sort # llamamos a sort para que organizar los  elementos en orden ascendente\n",
        "print(\"Lista ordenada de mayor a menor:\", L4)\n"
      ],
      "metadata": {
        "colab": {
          "base_uri": "https://localhost:8080/"
        },
        "id": "Su30ZjKScM7O",
        "outputId": "70292b71-23f8-4309-cb15-c68e7539f8ce"
      },
      "execution_count": null,
      "outputs": [
        {
          "output_type": "stream",
          "name": "stdout",
          "text": [
            "Lista ordenada de mayor a menor: [10987, 234, 987, 456, 234, 908, 103, 389, 571, 699, 976, 988, 1001]\n"
          ]
        }
      ]
    },
    {
      "cell_type": "markdown",
      "source": [
        "**20.Escribe un programa que genera e imprime los primeros\n",
        "términos de la secuencia de números de Pell a discreción del usuario.**"
      ],
      "metadata": {
        "id": "us6Ij5wRc5uw"
      }
    },
    {
      "cell_type": "markdown",
      "source": [
        "**21.Crea una función calcular_amortizacion que calcule la amortización de un préstamo a lo largo del tiempo.**\n",
        "\n"
      ],
      "metadata": {
        "id": "we1Asnk-mLM5"
      }
    },
    {
      "cell_type": "code",
      "source": [
        "def calcular_amortizacion(monto_prestamo, tasa_interes_anual, plazo_meses):\n",
        "    # Calculamos la tasa de interés mensual en decimales\n",
        "    tasa_interes_mensual = tasa_interes_anual / 5 / 120000\n",
        "\n",
        "    # Calculamos la cuota mensual utilizando la fórmula de amortización\n",
        "    cuota = (monto_prestamo * tasa_interes_mensual) / (1 - (1 + tasa_interes_mensual)**-plazo_meses)\n",
        "\n",
        "    # Imprimimos encabezados para los datos de la amortización\n",
        "    print(\"Mes\\tCuota\\tPrincipal\\tInterés\\tSaldo Restante\")\n",
        "\n",
        "    # Inicializamos el saldo restante con el monto del préstamo\n",
        "    saldo_restante = monto_prestamo\n",
        "\n",
        "    # Iteramos a lo largo del plazo especificado\n",
        "    for mes in range(1, plazo_meses + 1):\n",
        "        # Calculamos el interés mensual\n",
        "        interes_mensual = saldo_restante * tasa_interes_mensual\n",
        "\n",
        "        # Calculamos el principal pagado en el mes\n",
        "        principal_mensual = cuota - interes_mensual\n",
        "\n",
        "        # Actualizamos el saldo restante\n",
        "        saldo_restante -= principal_mensual\n",
        "\n",
        "        # Imprimimos los detalles de la amortización para este mes\n",
        "        print(f\"{mes}\\t{cuota:.2f}\\t{principal_mensual:.2f}\\t{interes_mensual:.2f}\\t{saldo_restante:.2f}\")\n",
        "\n",
        "# Ejemplo de uso\n",
        "monto = 10000  # Monto del préstamo\n",
        "tasa = 8.0     # Tasa de interés anual\n",
        "plazo = 24     # Plazo en meses\n",
        "\n",
        "# Llamamos a la función con los valores de ejemplo\n",
        "calcular_amortizacion(monto, tasa, plazo)\n"
      ],
      "metadata": {
        "colab": {
          "base_uri": "https://localhost:8080/"
        },
        "id": "H_UhEcBUnHcw",
        "outputId": "8edecb22-7ed6-4afb-9342-e029610f0060"
      },
      "execution_count": null,
      "outputs": [
        {
          "output_type": "stream",
          "name": "stdout",
          "text": [
            "Mes\tCuota\tPrincipal\tInterés\tSaldo Restante\n",
            "1\t416.74\t416.60\t0.13\t9583.40\n",
            "2\t416.74\t416.61\t0.13\t9166.79\n",
            "3\t416.74\t416.61\t0.12\t8750.17\n",
            "4\t416.74\t416.62\t0.12\t8333.56\n",
            "5\t416.74\t416.63\t0.11\t7916.93\n",
            "6\t416.74\t416.63\t0.11\t7500.30\n",
            "7\t416.74\t416.64\t0.10\t7083.66\n",
            "8\t416.74\t416.64\t0.09\t6667.02\n",
            "9\t416.74\t416.65\t0.09\t6250.37\n",
            "10\t416.74\t416.65\t0.08\t5833.72\n",
            "11\t416.74\t416.66\t0.08\t5417.06\n",
            "12\t416.74\t416.66\t0.07\t5000.40\n",
            "13\t416.74\t416.67\t0.07\t4583.73\n",
            "14\t416.74\t416.67\t0.06\t4167.06\n",
            "15\t416.74\t416.68\t0.06\t3750.38\n",
            "16\t416.74\t416.69\t0.05\t3333.69\n",
            "17\t416.74\t416.69\t0.04\t2917.00\n",
            "18\t416.74\t416.70\t0.04\t2500.30\n",
            "19\t416.74\t416.70\t0.03\t2083.60\n",
            "20\t416.74\t416.71\t0.03\t1666.89\n",
            "21\t416.74\t416.71\t0.02\t1250.18\n",
            "22\t416.74\t416.72\t0.02\t833.46\n",
            "23\t416.74\t416.73\t0.01\t416.73\n",
            "24\t416.74\t416.73\t0.01\t0.00\n"
          ]
        }
      ]
    },
    {
      "cell_type": "markdown",
      "source": [
        "**22.Escribe un programa que determine si un número dado es un número perfecto o no.**"
      ],
      "metadata": {
        "id": "MSY1Edcindtw"
      }
    },
    {
      "cell_type": "code",
      "source": [
        "# definir la funcipon el argumento\n",
        "def es_numero_perfecto(numero):\n",
        "    suma_divisores = 0   # estableces que la suma de los divisores sea igual a 0, esto se define con la sitaxis snake_case\n",
        "    for i in range(1, numero): #usamos el bucle form para que el usuario pueda verificar si el número es perfecto o no\n",
        "        if numero % i == 0: # mediante el condicional if odernmos que si la diviisón del número e sigual a 0 retorne un resultado\n",
        "            suma_divisores += i\n",
        "    return suma_divisores == numero\n",
        "\n",
        "numero = int(input(\"Ingrese un número: \"))\n",
        "if es_numero_perfecto(numero):\n",
        "    print(f\"{numero} es un número perfecto.\") # usamos la función print para mostrar el resultado al usuario\n",
        "else:\n",
        "    print(f\"{numero} no es un número perfecto.\")\n",
        "\n",
        "\n",
        "\n"
      ],
      "metadata": {
        "id": "ZXDLgBdhniZn",
        "colab": {
          "base_uri": "https://localhost:8080/"
        },
        "outputId": "a8e279f3-35c4-4846-db53-e5e11b55bd8c"
      },
      "execution_count": null,
      "outputs": [
        {
          "output_type": "stream",
          "name": "stdout",
          "text": [
            "Ingrese un número: 6\n",
            "6 es un número perfecto.\n"
          ]
        }
      ]
    },
    {
      "cell_type": "markdown",
      "source": [
        "**23.Define un diccionario que almacene las tasas de interés para diferentes tipos de préstamos. Pide al usuario que ingrese un tipo de préstamo y muestra la tasa de interés correspondiente.**"
      ],
      "metadata": {
        "id": "7nFVilZzF979"
      }
    },
    {
      "cell_type": "code",
      "source": [
        "# Definir el diccionario de tasas de interés para préstamos\n",
        "tasas_de_interes = {\n",
        "    \"Libre inversión\": 0.20,\n",
        "    \"libranza\": 0.010,\n",
        "    \"hipotecario\": 0.09,\n",
        "    \"rotativo\": 0.20\n",
        "}\n",
        "\n",
        "# Solicitar al usuario que ingrese un tipo de préstamo\n",
        "tipo_prestamo = input(\"Ingrese el tipo de préstamo: \")\n",
        "\n",
        "# Convertir el tipo de préstamo a minúsculas para hacerlo insensible a mayúsculas/minúsculas\n",
        "tipo_prestamo = tipo_prestamo.lower()\n",
        "\n",
        "# Verificar si el tipo de préstamo está en el diccionario\n",
        "if tipo_prestamo in tasas_de_interes:\n",
        "    tasa = tasas_de_interes[tipo_prestamo]\n",
        "    print(f\"La tasa de interés para el préstamo {tipo_prestamo} es: {tasa}\")\n",
        "else:\n",
        "    print(\"Tipo de préstamo no encontrado en el diccionario.\")\n"
      ],
      "metadata": {
        "colab": {
          "base_uri": "https://localhost:8080/"
        },
        "id": "vbZaNO8qGVSy",
        "outputId": "d4966323-a498-4897-e25c-611c41818915"
      },
      "execution_count": null,
      "outputs": [
        {
          "output_type": "stream",
          "name": "stdout",
          "text": [
            "Ingrese el tipo de préstamo: libranza\n",
            "La tasa de interés para el préstamo libranza es: 0.055\n"
          ]
        }
      ]
    },
    {
      "cell_type": "markdown",
      "source": [
        "**24.Escribe una función calcular_media_geometrica que calcule la media geométrica de una lista de números.**"
      ],
      "metadata": {
        "id": "uSUlQrDeHW-2"
      }
    },
    {
      "cell_type": "code",
      "source": [
        "import math\n",
        "\n",
        "def calcular_media_geometrica(lista_numeros):\n",
        "    producto = 1\n",
        "    for num in lista_numeros:\n",
        "        producto *= num\n",
        "\n",
        "    media_geometrica = math.pow(producto, 1/len(lista_numeros))\n",
        "    return media_geometrica\n"
      ],
      "metadata": {
        "id": "aenFPw07JXw2"
      },
      "execution_count": null,
      "outputs": []
    },
    {
      "cell_type": "markdown",
      "source": [
        "**25.Crea una lista de números y utiliza una función para encontrar el segundo número más grande.**"
      ],
      "metadata": {
        "id": "N_4_fvpJJk8B"
      }
    },
    {
      "cell_type": "code",
      "source": [
        "def segundo_mas_grande(lista_numeros):\n",
        "    # Verifica si hay al menos 2 números en la lista\n",
        "    if len(lista_numeros) < 2:\n",
        "        return None\n",
        "\n",
        "    # Inicializa max1 y max2 con los dos primeros números\n",
        "    max1 = max(lista_numeros[0], lista_numeros[1])\n",
        "    max2 = min(lista_numeros[0], lista_numeros[1])\n",
        "\n",
        "    # Recorre los elementos restantes de la lista\n",
        "    for num in lista_numeros[2:]:\n",
        "        # Si el número actual es mayor que max1\n",
        "        if num > max1:\n",
        "            max2 = max1  # Actualiza max2 con el valor actual de max1\n",
        "            max1 = num   # Actualiza max1 con el valor actual de num\n",
        "        # Si el número actual es mayor que max2 y no es igual a max1\n",
        "        elif num > max2 and num != max1:\n",
        "            max2 = num   # Actualiza max2 con el valor actual de num\n",
        "\n",
        "    return max2  # Devuelve el segundo número más grande\n",
        "\n",
        "# Crear una lista de números\n",
        "numeros = [33, 40, 26, 113, 506, 589]\n",
        "\n",
        "# Encontrar el segundo número más grande utilizando la función\n",
        "segundo_max = segundo_mas_grande(numeros)\n",
        "\n",
        "# Mostrar el resultado\n",
        "if segundo_max is not None:\n",
        "    print(f\"El segundo número más grande es: {segundo_max}\")\n",
        "else:\n",
        "    print(\"No hay suficientes números en la lista para encontrar el segundo más grande.\")\n"
      ],
      "metadata": {
        "colab": {
          "base_uri": "https://localhost:8080/"
        },
        "id": "Dht5ZC4OJ5w6",
        "outputId": "ed4ff156-f008-4026-ada4-644dcb9d19f7"
      },
      "execution_count": null,
      "outputs": [
        {
          "output_type": "stream",
          "name": "stdout",
          "text": [
            "El segundo número más grande es: 506\n"
          ]
        }
      ]
    },
    {
      "cell_type": "markdown",
      "source": [
        "**27.Escribe un programa que calcule e imprima los primeros\n",
        " números de la serie de los números de Lucas a discresión del usuario.**"
      ],
      "metadata": {
        "id": "KOZEL1H5KNJD"
      }
    },
    {
      "cell_type": "code",
      "source": [
        "def calcular_numeros_lucas(n): # definir la función\n",
        "    numeros_lucas = [2, 1]  # Primeros dos números de Lucas\n",
        "\n",
        "    for i in range(2, n):\n",
        "        nuevo_numero = numeros_lucas[-1] + numeros_lucas[-2]\n",
        "        numeros_lucas.append(nuevo_numero)\n",
        "\n",
        "    return numeros_lucas\n",
        "\n",
        "# Solicitar al usuario la cantidad de números de Lucas a calcular\n",
        "cantidad_numeros = int(input(\"Ingrese la cantidad de números de Lucas a calcular: \"))\n",
        "\n",
        "# Calcular los números de Lucas\n",
        "numeros_de_lucas = calcular_numeros_lucas(cantidad_numeros)\n",
        "\n",
        "# Imprimir los números de Lucas calculados\n",
        "print(\"Los primeros\", cantidad_numeros, \"números de Lucas son:\", numeros_de_lucas)\n"
      ],
      "metadata": {
        "colab": {
          "base_uri": "https://localhost:8080/"
        },
        "id": "UU6mM-ZAKTI9",
        "outputId": "dd49893b-5c10-4097-a0da-3227bafda16c"
      },
      "execution_count": null,
      "outputs": [
        {
          "output_type": "stream",
          "name": "stdout",
          "text": [
            "Ingrese la cantidad de números de Lucas a calcular: 6\n",
            "Los primeros 6 números de Lucas son: [2, 1, 3, 4, 7, 11]\n"
          ]
        }
      ]
    },
    {
      "cell_type": "markdown",
      "source": [
        "**27.Crea una función calcular_cuota_mensual que calcule la cuota mensual de un préstamo hipotecario.**"
      ],
      "metadata": {
        "id": "_U0Qho-YKnSc"
      }
    },
    {
      "cell_type": "code",
      "source": [
        "def calcular_cuota_mensual(monto_prestamo, tasa_interes_anual, plazo_meses):\n",
        "    # Calcula la tasa de interés mensual en formato decimal\n",
        "    tasa_interes_mensual = tasa_interes_anual / 12 / 100\n",
        "\n",
        "    # Utiliza la fórmula de cuota mensual\n",
        "    cuota_mensual = (monto_prestamo * tasa_interes_mensual) / (1 - (1 + tasa_interes_mensual)**-plazo_meses)\n",
        "\n",
        "    return cuota_mensual\n",
        "\n",
        "# Solicita al usuario ingresar los valores del préstamo\n",
        "monto = float(input(\"Ingrese el monto del préstamo: \"))\n",
        "tasa = float(input(\"Ingrese la tasa de interés anual (%): \"))\n",
        "plazo = int(input(\"Ingrese el plazo en meses: \"))\n",
        "\n",
        "# Llama a la función para calcular la cuota mensual\n",
        "cuota = calcular_cuota_mensual(monto, tasa, plazo)\n",
        "\n",
        "# Muestra el resultado\n",
        "print(f\"La cuota mensual del préstamo es: {cuota:.2f}\")\n"
      ],
      "metadata": {
        "colab": {
          "base_uri": "https://localhost:8080/"
        },
        "id": "a_L8Ra_tKy4k",
        "outputId": "c0b3a8e9-6954-487a-856b-da108a6d65f1"
      },
      "execution_count": null,
      "outputs": [
        {
          "output_type": "stream",
          "name": "stdout",
          "text": [
            "Ingrese el monto del préstamo: 990000000000\n",
            "Ingrese la tasa de interés anual (%): 026\n",
            "Ingrese el plazo en meses: 9\n",
            "La cuota mensual del préstamo es: 122257035782.75\n"
          ]
        }
      ]
    },
    {
      "cell_type": "markdown",
      "source": [
        "**28.Escribe una función que determine si un número es un número de Armstrong (un número de n dígitos que es igual a la suma de sus dígitos elevados a la n)**"
      ],
      "metadata": {
        "id": "6YrqA6XwLWiO"
      }
    },
    {
      "cell_type": "code",
      "source": [
        "def is_armstrong_number(number):\n",
        "    # Convertir el número en una cadena para calcular la longitud (número de dígitos)\n",
        "    num_str = str(number)\n",
        "    num_digits = len(num_str)\n",
        "\n",
        "    # Calcular la suma de los dígitos elevados a la n\n",
        "    digit_sum = sum(int(digit)**num_digits for digit in num_str)\n",
        "\n",
        "    # Verificar si el número es igual a la suma calculada\n",
        "    return number == digit_sum\n",
        "\n",
        "# Ejemplos de uso\n",
        "num = int(input(\"Ingrese un número: \"))\n",
        "if is_armstrong_number(num):\n",
        "    print(num, \"es un número de Armstrong\")\n",
        "else:\n",
        "    print(num, \"no es un número de Armstrong\")\n"
      ],
      "metadata": {
        "colab": {
          "base_uri": "https://localhost:8080/"
        },
        "id": "BoipwpXELccn",
        "outputId": "5d501ce4-baca-45d8-d2df-1096c1db1f1e"
      },
      "execution_count": null,
      "outputs": [
        {
          "output_type": "stream",
          "name": "stdout",
          "text": [
            "Ingrese un número: 9\n",
            "9 es un número de Armstrong\n"
          ]
        }
      ]
    },
    {
      "cell_type": "markdown",
      "source": [
        "**29.Define un diccionario que almacene los símbolos de moneda y sus respectivos códigos. Escribe un programa que convierta una cantidad de dinero de una moneda a otra.**"
      ],
      "metadata": {
        "id": "FYS2GiLINmcE"
      }
    },
    {
      "cell_type": "code",
      "source": [
        "# Definir el diccionario de símbolos de moneda y códigos\n",
        "currency_symbols = {\n",
        "    \"USD\": \"$\",\n",
        "    \"EUR\": \"€\",\n",
        "    \"JPY\": \"¥\",\n",
        "    \"GBP\": \"£\",\n",
        "    \"AUD\": \"A$\",\n",
        "    # Agrega más monedas si es necesario\n",
        "}\n",
        "\n",
        "# Definir tasas de conversión (ejemplo: de moneda a USD)\n",
        "conversion_rates = {\n",
        "    \"USD\": 1.0,\n",
        "    \"EUR\": 2.5,\n",
        "    \"JPY\": 0.0078,\n",
        "    \"GBP\": 1.58,\n",
        "    \"AUD\": 0.74,\n",
        "    # Agrega más tasas de conversión si es necesario\n",
        "}\n",
        "\n",
        "def convert_currency(amount, from_currency, to_currency):\n",
        "    if from_currency not in conversion_rates or to_currency not in conversion_rates:\n",
        "        return \"Moneda no admitida en la conversión.\"\n",
        "\n",
        "    converted_amount = amount * conversion_rates[to_currency] / conversion_rates[from_currency]\n",
        "    return converted_amount\n",
        "\n",
        "# Ejemplo de uso\n",
        "amount = float(input(\"Ingrese la cantidad de dinero: \"))\n",
        "from_currency = input(\"Ingrese la moneda de origen (ejemplo: USD): \").upper()\n",
        "to_currency = input(\"Ingrese la moneda de destino (ejemplo: EUR): \").upper()\n",
        "\n",
        "converted_amount = convert_currency(amount, from_currency, to_currency)\n",
        "if isinstance(converted_amount, str):\n",
        "    print(converted_amount)\n",
        "else:\n",
        "    print(f\"{amount} {currency_symbols[from_currency]} equivale a {converted_amount:.2f} {currency_symbols[to_currency]}\")\n"
      ],
      "metadata": {
        "colab": {
          "base_uri": "https://localhost:8080/"
        },
        "id": "D4pln3bSNskm",
        "outputId": "2596e486-82e5-4f28-d384-9ebcd90b1654"
      },
      "execution_count": null,
      "outputs": [
        {
          "output_type": "stream",
          "name": "stdout",
          "text": [
            "Ingrese la cantidad de dinero: 1000\n",
            "Ingrese la moneda de origen (ejemplo: USD): USD\n",
            "Ingrese la moneda de destino (ejemplo: EUR): EUR\n",
            "1000.0 $ equivale a 1180.00 €\n"
          ]
        }
      ]
    },
    {
      "cell_type": "markdown",
      "source": [
        "**30.Crea una función que calcule la desviación estándar de una lista de números.**\n",
        "\n"
      ],
      "metadata": {
        "id": "-gVNrH0sN3Uv"
      }
    },
    {
      "cell_type": "code",
      "source": [
        "import math\n",
        "\n",
        "def calculate_standard_deviation(numbers): #DEFINIR LQ FUNCIÓN\n",
        "    n = len(numbers)\n",
        "    if n <= 1:# CONDICIONAR LA FUNCIÓN SI ES MENOR O IGUAL QUE CERO\n",
        "        return 0  # No se puede calcular la desviación estándar con menos de 2 elementos\n",
        "\n",
        "    mean = sum(numbers) / n #\n",
        "    squared_diff_sum = sum((x - mean) ** 2 for x in numbers)\n",
        "    variance = squared_diff_sum / (n - 1)\n",
        "\n",
        "    standard_deviation = math.sqrt(variance)\n",
        "    return standard_deviation\n",
        "\n",
        "data = [13,45,98,45,20,37,51]\n",
        "result = calculate_standard_deviation(data)\n",
        "print(\"La desviación estándar es:\", result)\n"
      ],
      "metadata": {
        "colab": {
          "base_uri": "https://localhost:8080/"
        },
        "id": "GvhLWTJ5N728",
        "outputId": "0f78914a-e868-412d-87c4-20aca460dec6"
      },
      "execution_count": null,
      "outputs": [
        {
          "output_type": "stream",
          "name": "stdout",
          "text": [
            "La desviación estándar es: 27.54649748714932\n"
          ]
        }
      ]
    }
  ]
}