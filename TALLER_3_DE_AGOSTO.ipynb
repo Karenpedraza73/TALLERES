{
  "nbformat": 4,
  "nbformat_minor": 0,
  "metadata": {
    "colab": {
      "provenance": []
    },
    "kernelspec": {
      "name": "python3",
      "display_name": "Python 3"
    },
    "language_info": {
      "name": "python"
    }
  },
  "cells": [
    {
      "cell_type": "code",
      "source": [],
      "metadata": {
        "id": "o3-UU0Qu9h1H"
      },
      "execution_count": null,
      "outputs": []
    },
    {
      "cell_type": "code",
      "source": [
        "def suma_numero_division (a,b,c):\n",
        "  if type(a)== int and type(b)== int and type(c)== int:\n",
        "    if c == 0:\n",
        "      print(\"los numeros deben ser enteros\")\n",
        "    else:\n",
        "      operación = (a+b)/c\n",
        "      print(f\"el resultado es {operación}\")\n",
        "  else:\n",
        "    print(\"error\")\n"
      ],
      "metadata": {
        "id": "q7Q6ATiuC0mV"
      },
      "execution_count": 73,
      "outputs": []
    },
    {
      "cell_type": "code",
      "source": [
        "suma_numero_division(5,6,8)"
      ],
      "metadata": {
        "colab": {
          "base_uri": "https://localhost:8080/"
        },
        "id": "1l9uOLGvHJQV",
        "outputId": "c03bd97e-1550-4d14-852d-279df3a1a7eb"
      },
      "execution_count": 85,
      "outputs": [
        {
          "output_type": "stream",
          "name": "stdout",
          "text": [
            "el resultado es 1.375\n"
          ]
        }
      ]
    },
    {
      "cell_type": "code",
      "source": [],
      "metadata": {
        "id": "H1rXcBijHPjF"
      },
      "execution_count": null,
      "outputs": []
    }
  ]
}